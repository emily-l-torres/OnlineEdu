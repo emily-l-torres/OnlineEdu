{
 "cells": [
  {
   "cell_type": "markdown",
   "metadata": {},
   "source": [
    "# OnlineEdu Academic Affairs Analysis - Emily Torres"
   ]
  },
  {
   "cell_type": "markdown",
   "metadata": {},
   "source": [
    "Import all necessary libraries"
   ]
  },
  {
   "cell_type": "code",
   "execution_count": null,
   "metadata": {},
   "outputs": [],
   "source": [
    "import pandas as pd\n",
    "import matplotlib.pyplot as plt\n",
    "import seaborn as sns\n",
    "import numpy as np"
   ]
  },
  {
   "cell_type": "markdown",
   "metadata": {},
   "source": [
    "## Analysis #1: Event Attendance Data Analysis"
   ]
  },
  {
   "cell_type": "markdown",
   "metadata": {},
   "source": [
    "### Gathering Attendance of Events Based on Age Group Using Demographic Data and Event Attendance Data"
   ]
  },
  {
   "cell_type": "markdown",
   "metadata": {},
   "source": [
    "Code Breakdown\n",
    "1) Load and merge data\n",
    "2) Clean data\n",
    "3) Handle missing data values\n",
    "4) Categorize age groups\n",
    "5) Identify attendance columns\n",
    "6) Convert attendance to binary values\n",
    "7) Melt data\n",
    "8) Aggregate data\n",
    "9) Display results"
   ]
  },
  {
   "cell_type": "code",
   "execution_count": null,
   "metadata": {},
   "outputs": [],
   "source": [
    "# Step 1\n",
    "demo_data = pd.read_csv('Demographic_Data.csv')\n",
    "demo_data = pd.DataFrame(demo_data)\n",
    "\n",
    "event_data = pd.read_csv('Event_Attendance_Data.csv')\n",
    "event_data = pd.DataFrame(event_data)\n",
    "\n",
    "demo_event_data = pd.merge(demo_data, event_data, on='user_id', how='inner')\n",
    "\n",
    "# Step 2\n",
    "demo_event_data.drop(columns=['term_number', 'hear_about_OnlineEdu', 'gender', 'race',\n",
    "       'hispanic', 'high_school_grad', 'ged_received', 'first_gen_college?',\n",
    "       'past_college_enrollment', 'zipcode', 'city', 'state', 'veteran_status',\n",
    "       'registration_status', 'Lifetime Credits Completed',\n",
    "       'Lifetime Credits Attempted', 'Lifetime GPA'], inplace=True)\n",
    "\n",
    "# Step 3\n",
    "demo_event_data = demo_event_data.fillna('')\n",
    "\n",
    "# Step 4\n",
    "age_bins = [18, 24, 34, 50, float('inf')]\n",
    "age_labels = ['18-24', '25-34', '35-50', '50+']\n",
    "\n",
    "demo_event_data['age_group'] = pd.cut(demo_event_data['age'], bins=age_bins, labels=age_labels, right=False)\n",
    "\n",
    "# Step 5\n",
    "attendance_columns = [col for col in demo_event_data.columns if '__' in col]\n",
    "\n",
    "# Step 6\n",
    "demo_event_data[attendance_columns] = demo_event_data[attendance_columns].applymap(lambda x: 1 if x == 'Present' else 0)\n",
    "\n",
    "# Step 7\n",
    "attendance_by_event_age = demo_event_data.melt(id_vars=['age_group'], value_vars=attendance_columns, \n",
    "                                               var_name='Event', value_name='Attendance')\n",
    "\n",
    "# Step 8\n",
    "attendance_summary = attendance_by_event_age.groupby(['Event', 'age_group'])['Attendance'].sum().unstack(fill_value=0)\n",
    "\n",
    "# Step 9\n",
    "attendance_summary"
   ]
  },
  {
   "cell_type": "markdown",
   "metadata": {},
   "source": [
    "### Finding & Graphing The Total Number of Present Event Attendees for Each Age Group"
   ]
  },
  {
   "cell_type": "markdown",
   "metadata": {},
   "source": [
    "Code Breakdown:\n",
    "1) Define Age Bins and Labels\n",
    "2) Assign age groups to the data\n",
    "3) Counting age group frequencies\n",
    "4) Convert counts to a separate dataframe\n",
    "5) Display results"
   ]
  },
  {
   "cell_type": "code",
   "execution_count": null,
   "metadata": {},
   "outputs": [],
   "source": [
    "# Step 1\n",
    "age_bins = [18, 24, 34, 50, float('inf')]\n",
    "age_labels = ['18-24', '25-34', '35-50', '50+']\n",
    "\n",
    "# Step 2\n",
    "demo_event_data['age_group'] = pd.cut(demo_event_data['age'], bins=age_bins, labels=age_labels, right=False)\n",
    "demo_data['age_group'] = pd.cut(demo_data['age'], bins=age_bins, labels=age_labels, right=False)\n",
    "\n",
    "# Step 3\n",
    "age_group_counts = demo_data['age_group'].value_counts()\n",
    "\n",
    "# Step 4\n",
    "age_group_counts_df = pd.DataFrame(age_group_counts)\n",
    "\n",
    "# Step 5\n",
    "age_group_counts_df"
   ]
  },
  {
   "cell_type": "code",
   "execution_count": null,
   "metadata": {},
   "outputs": [],
   "source": [
    "# Step 1\n",
    "sns.barplot(x='age_group', y='count', data=age_group_counts_df)\n",
    "\n",
    "# Step 2\n",
    "plt.title('Count of Individuals in Each Age Group')\n",
    "plt.xlabel('Age Group')\n",
    "plt.ylabel('Count')\n",
    "\n",
    "# Step 3\n",
    "plt.show()"
   ]
  },
  {
   "cell_type": "markdown",
   "metadata": {},
   "source": [
    "### Create an Event Category column for Attendance Summary"
   ]
  },
  {
   "cell_type": "markdown",
   "metadata": {},
   "source": [
    "Code Breakdown:\n",
    "1) Creating the event_categories dictionary\n",
    "2) Converting the dictionary to a dataframe\n",
    "3) Merging the event categories with the attendance summary\n",
    "4) Display results"
   ]
  },
  {
   "cell_type": "code",
   "execution_count": null,
   "metadata": {},
   "outputs": [],
   "source": [
    "# Step 1\n",
    "event_categories = {\n",
    "    '2024-10-10__OPTIONAL Office Hours with Damon Director of Student Affairs': 'Academic',\n",
    "    '2024-10-11__OnlineEdu Debate Club': 'Social',\n",
    "    '2024-10-13__OnlineEdu Debate Club': 'Social',\n",
    "    '2024-10-15__Transfer Tuesday with SNHU': 'Academic',\n",
    "    '2024-10-16__Caffeinated Chasers Between the Enchanted Covers Book Club': 'Social',\n",
    "    '2024-10-17__OPTIONAL Office Hours with Damon Director of Student Affairs': 'Academic',\n",
    "    '2024-10-18__OnlineEdu Debate Club': 'Social',\n",
    "    '2024-10-22__Transfer Tuesday with NLU': 'Academic',\n",
    "    '2024-10-23__Caffeinated Chasers Between the Enchanted Covers Book Club': 'Social',\n",
    "    '2024-10-24__Student Council Interest Meeting': 'Social',\n",
    "    '2024-10-30__Caffeinated Chasers Between the Enchanted Covers Book Club': 'Social',\n",
    "    '2024-10-30__Career Cafe w Drew Dernavich': 'Career',\n",
    "    '2024-10-31__OPTIONAL Office Hours with Damon Director of Student Affairs': 'Academic',\n",
    "    '2024-11-01__OnlineEdu Debate Club': 'Social',\n",
    "    '2024-11-01__Parent Support Club': 'Social',\n",
    "    '2024-11-06__Caffeinated Chasers Between the Enchanted Covers Book Club': 'Social',\n",
    "    '2024-11-06__Career Workshop w Darren Virassammy': 'Career',\n",
    "    '2024-11-08__Parent Support Club': 'Social',\n",
    "    '2024-11-12__Transfer Tuesday with BUTLER UNIVERSITY': 'Academic',\n",
    "    '2024-11-13__Caffeinated Chasers Between the Enchanted Covers Book Club': 'Social',\n",
    "    '2024-11-14__OPTIONAL Office Hours with Damon Director of Student Affairs': 'Academic',\n",
    "    '2024-11-15__Parent Support Club': 'Social',\n",
    "    '2024-11-17__OnlineEdu Debate Club': 'Social',\n",
    "    '2024-11-19__Transfer Tuesday with UMGC': 'Academic',\n",
    "    '2024-11-22__OnlineEdu Debate Club': 'Social',\n",
    "    '2024-11-25__Welcome to OnlineEdu': 'Social',\n",
    "    '2024-12-03__TRANSFER TUESDAY WITH TSU': 'Academic',\n",
    "    '2024-12-04__Caffeinated Chasers Between the Enchanted Covers Book Club': 'Social',\n",
    "    '2024-12-04__Success at OnlineEdu  Coaches': 'Career',\n",
    "    '2024-12-05__OPTIONAL Office Hours with Damon Director of Student Affairs': 'Academic',\n",
    "    '2024-12-08__OnlineEdu Debate Club': 'Social',\n",
    "    '2024-12-10__Transfer Tuesday with Umass Global': 'Academic',\n",
    "    '2024-12-11__Caffeinated Chasers Between the Enchanted Covers Book Club': 'Social',\n",
    "    '2024-12-12__AMA OnlineEdu Student Edition': 'Social',\n",
    "    '2024-12-13__OnlineEdu Debate Club': 'Social',\n",
    "    '2024-12-15__Debate Club': 'Social',\n",
    "    '2024-12-17__Faculty Meet  Greet': 'Career',\n",
    "    '2024-12-18__Caffeinated Chasers Between the Enchanted Covers Book Club': 'Social'\n",
    "}\n",
    "\n",
    "# Step 2\n",
    "event_categories_df = pd.DataFrame(list(event_categories.items()), columns=['Event', 'Event Category'])\n",
    "attendance_summary = attendance_summary.reset_index()\n",
    "\n",
    "# Step 3\n",
    "attendance_summary = attendance_summary.merge(event_categories_df, on='Event', how='left')\n",
    "\n",
    "# Step 4\n",
    "attendance_summary"
   ]
  },
  {
   "cell_type": "markdown",
   "metadata": {},
   "source": [
    "### Graph The Event Categories and Split Them Up By Age Group"
   ]
  },
  {
   "cell_type": "markdown",
   "metadata": {},
   "source": [
    "Code Breakdown\n",
    "1) Reset the index\n",
    "2) Melt the data into long format\n",
    "3) Pivot the Data\n",
    "4) Set the bar width and length\n",
    "5) Create bar chart\n",
    "6) Create bars for each age group\n",
    "7) Label and style graph\n",
    "8) Display results"
   ]
  },
  {
   "cell_type": "code",
   "execution_count": null,
   "metadata": {},
   "outputs": [],
   "source": [
    "# Step 1\n",
    "attendance_summary_reset = attendance_summary.reset_index()\n",
    "\n",
    "# Step 2\n",
    "df = attendance_summary_reset.melt(id_vars=['Event Category'], \n",
    "                                   value_vars=['18-24', '25-34', '35-50', '50+'], \n",
    "                                   var_name='Age Group', value_name='Event Count')\n",
    "\n",
    "# Step 3\n",
    "pivot_data = df.pivot_table(index='Event Category', \n",
    "                            columns='Age Group', \n",
    "                            values='Event Count', \n",
    "                            aggfunc='sum', \n",
    "                            fill_value=0)\n",
    "\n",
    "# Step 4\n",
    "width = 0.2 \n",
    "x = np.arange(len(pivot_data)) \n",
    "\n",
    "# Step 5\n",
    "fig, ax = plt.subplots(figsize=(10, 6))\n",
    "\n",
    "# Step 6\n",
    "bars1 = ax.bar(x - width, pivot_data['18-24'], width, label='18-24')\n",
    "bars2 = ax.bar(x, pivot_data['25-34'], width, label='25-34')\n",
    "bars3 = ax.bar(x + width, pivot_data['35-50'], width, label='35-50')\n",
    "bars4 = ax.bar(x + 2 * width, pivot_data['50+'], width, label='50+')\n",
    "\n",
    "# Step 7\n",
    "ax.set_xlabel('Event Categories')\n",
    "ax.set_ylabel('Number of Present Students')\n",
    "ax.set_title('Event Participation by Age Group')\n",
    "ax.set_xticks(x)\n",
    "ax.set_xticklabels(pivot_data.index, rotation=45)\n",
    "ax.legend()\n",
    "\n",
    "# Step 8\n",
    "plt.tight_layout()\n",
    "plt.show()"
   ]
  },
  {
   "cell_type": "markdown",
   "metadata": {},
   "source": [
    "### Find the Number of Present Event Attendees For Each Age Group"
   ]
  },
  {
   "cell_type": "markdown",
   "metadata": {},
   "source": [
    " Code Breakdown\n",
    " 1) Find sum of the numeric columns in attendance summary\n",
    " 2) Store the results"
   ]
  },
  {
   "cell_type": "code",
   "execution_count": null,
   "metadata": {},
   "outputs": [],
   "source": [
    "# Step 1\n",
    "age_group_counts = attendance_summary.sum(numeric_only=True)\n",
    "\n",
    "# Step 2\n",
    "age_group_counts"
   ]
  },
  {
   "cell_type": "markdown",
   "metadata": {},
   "source": [
    "### Find the Total Attendance for Each Category"
   ]
  },
  {
   "cell_type": "markdown",
   "metadata": {},
   "source": [
    "Code Breakdown:\n",
    "1) Find the sum across age groups for each event\n",
    "2) Group by event category and sum the total attendance\n",
    "3) Display results"
   ]
  },
  {
   "cell_type": "code",
   "execution_count": null,
   "metadata": {},
   "outputs": [],
   "source": [
    "# Step 1\n",
    "attendance_summary['Total Attendance'] = attendance_summary[['18-24', '25-34', '35-50', '50+']].sum(axis=1)\n",
    "\n",
    "# Step 2\n",
    "event_category_totals = attendance_summary.groupby('Event Category')['Total Attendance'].sum()\n",
    "event_category_totals = pd.DataFrame(event_category_totals)\n",
    "\n",
    "# Step 3\n",
    "event_category_totals"
   ]
  },
  {
   "cell_type": "markdown",
   "metadata": {},
   "source": [
    "### Calculate Attendance for Each Event Category for Each Age Group"
   ]
  },
  {
   "cell_type": "markdown",
   "metadata": {},
   "source": [
    "Code Breakdown:\n",
    "1) Get the total attendance numbers for each age group within each event category\n",
    "2) Convert to dictionary format for easy reference\n",
    "3) Print numbers"
   ]
  },
  {
   "cell_type": "code",
   "execution_count": null,
   "metadata": {},
   "outputs": [],
   "source": [
    "# Step 1\n",
    "attendance_by_category_age = attendance_summary.groupby('Event Category')[['18-24', '25-34', '35-50', '50+']].sum()\n",
    "\n",
    "# Step 2\n",
    "attendance_numbers = attendance_by_category_age.to_dict()\n",
    "\n",
    "# Step 3\n",
    "for category, age_groups in attendance_numbers.items():\n",
    "    print(f\"{category}:\")\n",
    "    for age_group, count in age_groups.items():\n",
    "        print(f\"  {age_group}: {count}\")"
   ]
  },
  {
   "cell_type": "markdown",
   "metadata": {},
   "source": [
    "## Analysis #2: Class Attendance Data Analysis"
   ]
  },
  {
   "cell_type": "markdown",
   "metadata": {},
   "source": [
    "### Gathering Class Attendance & Registration Status Information Using Demographic Data and Class Attendance Data"
   ]
  },
  {
   "cell_type": "markdown",
   "metadata": {},
   "source": [
    "Code Breakdown:\n",
    "1) Load and merge datatsets\n",
    "2) Drop unnnecessary columns\n",
    "3) Fix blank values\n",
    "4) Display results"
   ]
  },
  {
   "cell_type": "code",
   "execution_count": null,
   "metadata": {},
   "outputs": [],
   "source": [
    "# Step 1\n",
    "demo_data = pd.read_csv('Demographic_Data.csv')\n",
    "demo_data = pd.DataFrame(demo_data)\n",
    "\n",
    "performance_data = pd.read_csv('Class_Performance_Data.csv')\n",
    "performance_data = pd.DataFrame(performance_data)\n",
    "\n",
    "demo_performance_data = pd.merge(demo_data, performance_data, on='user_id', how='inner')\n",
    "\n",
    "# Step 2\n",
    "demo_performance_data = demo_performance_data.drop(columns=['age', 'hear_about_OnlineEdu', 'city', 'gender', 'race', 'hispanic', 'high_school_grad', 'ged_received', 'first_gen_college?', 'past_college_enrollment', 'veteran_status', 'Lifetime Credits Completed', 'Lifetime Credits Attempted', 'Lifetime GPA'])\n",
    "\n",
    "# Step 3\n",
    "demo_performance_data = demo_performance_data.fillna('')\n",
    "\n",
    "# Step 4\n",
    "demo_performance_data"
   ]
  },
  {
   "cell_type": "markdown",
   "metadata": {},
   "source": [
    "### Graph the Spread of Registration Status Across All Unique OnlineEdu Students"
   ]
  },
  {
   "cell_type": "markdown",
   "metadata": {},
   "source": [
    "Code Breakdown:\n",
    "1) Count the occurrences of each unique value in the 'registration_status' column\n",
    "2) Plot the results as a bar graph\n",
    "3) Add title and labels\n",
    "4) Display results"
   ]
  },
  {
   "cell_type": "code",
   "execution_count": null,
   "metadata": {},
   "outputs": [],
   "source": [
    "# Step 1\n",
    "registration_counts = demo_data.groupby('registration_status')['user_id'].nunique()\n",
    "\n",
    "# Step 2\n",
    "registration_counts.plot(kind='bar', color='skyblue')\n",
    "\n",
    "# Step 3\n",
    "plt.title('Student Class Registration Status')\n",
    "plt.xlabel('Registration Status')\n",
    "plt.ylabel('Count')\n",
    "\n",
    "# Step 4\n",
    "plt.show()\n",
    "registration_counts\n"
   ]
  },
  {
   "cell_type": "markdown",
   "metadata": {},
   "source": [
    "### Fix Any Missing Gaps in State Data Based on Zip Code"
   ]
  },
  {
   "cell_type": "markdown",
   "metadata": {},
   "source": [
    "Code Breakdown:\n",
    "1) Create dictionary of missing state values based on zip code key\n",
    "2) Replace blank value with dictionary values\n",
    "3) Display results"
   ]
  },
  {
   "cell_type": "code",
   "execution_count": null,
   "metadata": {},
   "outputs": [],
   "source": [
    "# Debugging Stuff\n",
    "# Filter records with an empty or missing state\n",
    "# empty_state_records = demo_performance_data[demo_performance_data[\"state\"].isna() | (demo_performance_data[\"state\"] == '')]\n",
    "\n",
    "# Display result\n",
    "# empty_state_records\n",
    "\n",
    "# Step 1\n",
    "zip_to_state_mapping = {\n",
    "    '31015': 'GA',  # Replace ZIP 90001 with California\n",
    "    '60633': 'IL',    # Replace ZIP 10001 with New York\n",
    "}\n",
    "\n",
    "# Step 2\n",
    "demo_performance_data[\"state\"] = demo_performance_data.apply(\n",
    "    lambda row: zip_to_state_mapping.get(str(row[\"zipcode\"]), row[\"state\"]) \n",
    "    if pd.isna(row[\"state\"]) or row[\"state\"] == '' else row[\"state\"], axis=1\n",
    ")\n",
    "\n",
    "# Step 3\n",
    "demo_performance_data\n"
   ]
  },
  {
   "cell_type": "markdown",
   "metadata": {},
   "source": [
    "### Designate Regions Based on State as a New Column and Calculate Average Individual Student Attendance"
   ]
  },
  {
   "cell_type": "markdown",
   "metadata": {},
   "source": [
    "Code Breakdown:\n",
    "1) Convert avg_attendance to numeric\n",
    "2) Calculate each student's average attendance\n",
    "3) Rename column for clarity\n",
    "4) Merge state, zip code, and registration status\n",
    "5) Define a state-to-region mapping\n",
    "6) Map state to region\n",
    "7) Display results"
   ]
  },
  {
   "cell_type": "code",
   "execution_count": null,
   "metadata": {},
   "outputs": [],
   "source": [
    "# Step 1\n",
    "demo_performance_data[\"avg_attendance\"] = demo_performance_data[\"avg_attendance\"].astype(str).str.rstrip('%').astype(float)\n",
    "\n",
    "# Step 2\n",
    "student_avg_attendance = demo_performance_data.groupby(\"user_id\")[\"avg_attendance\"].mean().reset_index()\n",
    "\n",
    "# Step 3\n",
    "student_avg_attendance.rename(columns={\"avg_attendance\": \"student_avg_attendance\"}, inplace=True)\n",
    "\n",
    "# Step 4\n",
    "student_avg_attendance = student_avg_attendance.merge(demo_performance_data[['user_id', 'state', 'zipcode', 'registration_status']].drop_duplicates(), on='user_id', how='left')\n",
    "\n",
    "# Step 5\n",
    "state_to_region = {\n",
    "    'AL': 'South', 'AK': 'West', 'AZ': 'West', 'AR': 'South', 'CA': 'West',\n",
    "    'CO': 'West', 'CT': 'Northeast', 'DE': 'South', 'FL': 'South', 'GA': 'South',\n",
    "    'HI': 'West', 'ID': 'West', 'IL': 'Midwest', 'IN': 'Midwest', 'IA': 'Midwest',\n",
    "    'KS': 'Midwest', 'KY': 'South', 'LA': 'South', 'ME': 'Northeast', 'MD': 'South',\n",
    "    'MA': 'Northeast', 'MI': 'Midwest', 'MN': 'Midwest', 'MS': 'South',\n",
    "    'MO': 'Midwest', 'MT': 'West', 'NE': 'Midwest', 'NV': 'West', 'NH': 'Northeast',\n",
    "    'NJ': 'Northeast', 'NM': 'West', 'NY': 'Northeast', 'NC': 'South',\n",
    "    'ND': 'Midwest', 'OH': 'Midwest', 'OK': 'South', 'OR': 'West', 'PA': 'Northeast',\n",
    "    'RI': 'Northeast', 'SC': 'South', 'SD': 'Midwest', 'TN': 'South',\n",
    "    'TX': 'South', 'UT': 'West', 'VT': 'Northeast', 'VA': 'South', 'WA': 'West',\n",
    "    'WV': 'South', 'WI': 'Midwest', 'WY': 'West'\n",
    "}\n",
    "\n",
    "# Step 6\n",
    "student_avg_attendance['region'] = student_avg_attendance['state'].map(state_to_region)\n",
    "\n",
    "# Step 7\n",
    "student_avg_attendance.head()"
   ]
  },
  {
   "cell_type": "markdown",
   "metadata": {},
   "source": [
    "### Generate Attendance Datasets for Northeast and West Region"
   ]
  },
  {
   "cell_type": "markdown",
   "metadata": {},
   "source": [
    "Code Breakdown:\n",
    "1) Filter the data for Northeast and West region\n",
    "2) Create zipcode groups (group by first 3 digits)\n",
    "3) Count of students by zipcode group (total count, no registration status filtering) in Northeast and West region\n",
    "4) Count of each registration status by zipcode group in Northeast and West region\n",
    "5) Merge the total students count with registration status counts for Northeast region and add region column back to dataframe\n",
    "6) Merge the total students count with registration status counts for West region and add region column back to dataframe\n",
    "7) Classify zip code groups into zones (Urban, Suburban, and Rural)"
   ]
  },
  {
   "cell_type": "code",
   "execution_count": null,
   "metadata": {},
   "outputs": [],
   "source": [
    "# Step 1\n",
    "northeast_data = student_avg_attendance[student_avg_attendance['region'] == 'Northeast']\n",
    "west_data = student_avg_attendance[student_avg_attendance['region'] == 'West']\n",
    "\n",
    "# Step 2\n",
    "northeast_data['zipcode_group'] = northeast_data['zipcode'].apply(lambda x: str(x)[:3])\n",
    "west_data['zipcode_group'] = west_data['zipcode'].apply(lambda x: str(x)[:3])\n",
    "\n",
    "# Step 3\n",
    "northeast_total_counts = northeast_data.groupby('zipcode_group').size().reset_index(name='total_students')\n",
    "west_total_counts = west_data.groupby('zipcode_group').size().reset_index(name='total_students')\n",
    "\n",
    "# Step 4\n",
    "northeast_counts = northeast_data.groupby(['zipcode_group', 'registration_status']).size().unstack(fill_value=0)\n",
    "west_counts = west_data.groupby(['zipcode_group', 'registration_status']).size().unstack(fill_value=0)\n",
    "\n",
    "# Step 5\n",
    "northeast_combined = northeast_total_counts.merge(northeast_counts, on='zipcode_group', how='left')\n",
    "northeast_combined['region'] = 'Northeast'\n",
    "\n",
    "# Step 6\n",
    "west_combined = west_total_counts.merge(west_counts, on='zipcode_group', how='left')\n",
    "west_combined['region'] = 'West'\n",
    "\n",
    "# Step 7\n",
    "def classify_zip_zone(zipcode_group, region):\n",
    "    zipcode_group = int(zipcode_group)  # Convert to integer for comparison\n",
    "    \n",
    "    if region == \"Northeast\":\n",
    "        if 100 <= zipcode_group <= 199:\n",
    "            return \"Urban Core\"\n",
    "        elif 200 <= zipcode_group <= 499:\n",
    "            return \"Suburban/Mid-Sized Cities\"\n",
    "        else:\n",
    "            return \"Rural/Outer Areas\"\n",
    "\n",
    "    elif region == \"West\":\n",
    "        if 800 <= zipcode_group <= 899:\n",
    "            return \"Urban Core\"\n",
    "        elif 900 <= zipcode_group <= 949:\n",
    "            return \"Suburban/Mid-Sized Cities\"\n",
    "        else:\n",
    "            return \"Rural/Outer Areas\"\n",
    "    \n",
    "    return \"Unknown\"  # If the region isn't recognized\n",
    "\n",
    "northeast_combined[\"zone\"] = northeast_combined.apply(lambda row: classify_zip_zone(row[\"zipcode_group\"], row[\"region\"]), axis=1)\n",
    "west_combined[\"zone\"] = west_combined.apply(lambda row: classify_zip_zone(row[\"zipcode_group\"], row[\"region\"]), axis=1)"
   ]
  },
  {
   "cell_type": "markdown",
   "metadata": {},
   "source": [
    "Display results for Northeast Region"
   ]
  },
  {
   "cell_type": "code",
   "execution_count": null,
   "metadata": {},
   "outputs": [],
   "source": [
    "# Display the combined results for both regions\n",
    "print(\"Northeast Region Combined Counts (Total Students and Registration Status):\")\n",
    "\n",
    "northeast_combined\n"
   ]
  },
  {
   "cell_type": "markdown",
   "metadata": {},
   "source": [
    "Display results for West Region"
   ]
  },
  {
   "cell_type": "code",
   "execution_count": null,
   "metadata": {},
   "outputs": [],
   "source": [
    "print(\"West Region Combined Counts (Total Students and Registration Status):\")\n",
    "\n",
    "west_combined"
   ]
  },
  {
   "cell_type": "markdown",
   "metadata": {},
   "source": [
    "### Get Zipcode Groups in List Form for Each Region"
   ]
  },
  {
   "cell_type": "markdown",
   "metadata": {},
   "source": [
    "Code Breakdown:\n",
    "1) Get and sort unique zipcode groups for Northeast and West region\n",
    "2) Display results"
   ]
  },
  {
   "cell_type": "code",
   "execution_count": null,
   "metadata": {},
   "outputs": [],
   "source": [
    "# Step 1\n",
    "northeast_zipcode_groups = sorted(northeast_combined['zipcode_group'].unique())\n",
    "west_zipcode_groups = sorted(west_combined['zipcode_group'].unique())\n",
    "\n",
    "# Step 2\n",
    "print(\"Sorted Unique Zipcode Groups in Northeast Region:\")\n",
    "print(northeast_zipcode_groups)\n",
    "\n",
    "print(\"Sorted Unique Zipcode Groups in West Region:\")\n",
    "print(west_zipcode_groups)"
   ]
  },
  {
   "cell_type": "markdown",
   "metadata": {},
   "source": [
    "### Graph The Spread Across Zones for Northeast and West Regions"
   ]
  },
  {
   "cell_type": "markdown",
   "metadata": {},
   "source": [
    "Code Breakdown:\n",
    "1) Group by zone and sum the total_students for Northeast and West region\n",
    "2) Create bar chart\n",
    "3) Plot the bar chart for Northeast region\n",
    "4) Plot the bar chart for West region\n",
    "5) Adjust layout to prevent overlap and display results"
   ]
  },
  {
   "cell_type": "code",
   "execution_count": null,
   "metadata": {},
   "outputs": [],
   "source": [
    "# Step 1\n",
    "northeast_data = northeast_combined.groupby(\"zone\")[\"total_students\"].sum().reset_index()\n",
    "west_data = west_combined.groupby(\"zone\")[\"total_students\"].sum().reset_index()\n",
    "\n",
    "# Step 2\n",
    "fig, axes = plt.subplots(1, 2, figsize=(14, 6), sharey=True)\n",
    "\n",
    "# Step 3\n",
    "northeast_data.plot(kind=\"bar\", x=\"zone\", y=\"total_students\", ax=axes[0], color='#00F5D4')\n",
    "axes[0].set_title(\"Northeast - Total Students by Zone\")\n",
    "axes[0].set_xlabel(\"Zone\")\n",
    "axes[0].set_ylabel(\"Total Students\")\n",
    "axes[0].tick_params(axis=\"x\", rotation=45)\n",
    "\n",
    "# Step 4\n",
    "west_data.plot(kind=\"bar\", x=\"zone\", y=\"total_students\", ax=axes[1], color='#F15BB5')\n",
    "axes[1].set_title(\"West - Total Students by Zone\")\n",
    "axes[1].set_xlabel(\"Zone\")\n",
    "axes[1].set_ylabel(\"Total Students\")\n",
    "axes[1].tick_params(axis=\"x\", rotation=45)\n",
    "\n",
    "# Step 5\n",
    "plt.tight_layout()\n",
    "plt.show()\n"
   ]
  },
  {
   "cell_type": "markdown",
   "metadata": {},
   "source": [
    "#### Print Northeast Data Zone Counts"
   ]
  },
  {
   "cell_type": "code",
   "execution_count": null,
   "metadata": {},
   "outputs": [],
   "source": [
    "northeast_data"
   ]
  },
  {
   "cell_type": "markdown",
   "metadata": {},
   "source": [
    "#### Print West Data Zone Counts"
   ]
  },
  {
   "cell_type": "code",
   "execution_count": null,
   "metadata": {},
   "outputs": [],
   "source": [
    "west_data"
   ]
  },
  {
   "cell_type": "markdown",
   "metadata": {},
   "source": [
    "### Calculate the Percentages of Each Registration Status Type in All Zones for Northeast and West Region"
   ]
  },
  {
   "cell_type": "markdown",
   "metadata": {},
   "source": [
    "Code Breakdown:\n",
    "1) Define total leraners per zone\n",
    "2) Summarize registration counts per zone\n",
    "3) Calculate percentage of each registration status per zone\n",
    "4) Display results"
   ]
  },
  {
   "cell_type": "code",
   "execution_count": null,
   "metadata": {},
   "outputs": [],
   "source": [
    "# Step 1\n",
    "ne_total_learners = {\n",
    "    \"Rural/Outer Areas\": 54,\n",
    "    \"Suburban/Mid-Sized Cities\": 16,\n",
    "    \"Urban Core\": 135\n",
    "}\n",
    "\n",
    "# Step 2\n",
    "northeast_zone_summary = northeast_combined.groupby(\"zone\")[['Add/Drop', 'Did Not Start', 'Provisional Drop', 'Registered', 'Withdrawn']].sum().reset_index()\n",
    "\n",
    "# Step 3\n",
    "for zone in northeast_zone_summary['zone']:\n",
    "    total_students_in_zone = ne_total_learners.get(zone, 0)\n",
    "    for column in ['Add/Drop', 'Did Not Start', 'Provisional Drop', 'Registered', 'Withdrawn']:\n",
    "        northeast_zone_summary.loc[northeast_zone_summary['zone'] == zone, f\"{column}_percent\"] = (northeast_zone_summary.loc[northeast_zone_summary['zone'] == zone, column] / total_students_in_zone) * 100\n",
    "\n",
    "# Step 4\n",
    "northeast_zone_summary"
   ]
  },
  {
   "cell_type": "code",
   "execution_count": null,
   "metadata": {},
   "outputs": [],
   "source": [
    "# Step 1\n",
    "w_total_learners = {\n",
    "    \"Rural/Outer Areas\": 52,\n",
    "    \"Suburban/Mid-Sized Cities\": 101,\n",
    "    \"Urban Core\": 107\n",
    "}\n",
    "\n",
    "# Step 2\n",
    "west_zone_summary = west_combined.groupby(\"zone\")[['Add/Drop', 'Did Not Start', 'Provisional Drop', 'Registered', 'Withdrawn']].sum().reset_index()\n",
    "\n",
    "# Step 3\n",
    "for zone in west_zone_summary['zone']:\n",
    "    total_students_in_zone = w_total_learners.get(zone, 0)  # Get total number of learners for the zone\n",
    "    for column in ['Add/Drop', 'Did Not Start', 'Provisional Drop', 'Registered', 'Withdrawn']:\n",
    "        west_zone_summary.loc[west_zone_summary['zone'] == zone, f\"{column}_percent\"] = (west_zone_summary.loc[west_zone_summary['zone'] == zone, column] / total_students_in_zone) * 100\n",
    "\n",
    "# Step 4\n",
    "west_zone_summary"
   ]
  },
  {
   "cell_type": "markdown",
   "metadata": {},
   "source": [
    "### Graph the Spread of Registration Status Across Northeast and West Regions"
   ]
  },
  {
   "cell_type": "markdown",
   "metadata": {},
   "source": [
    "Code Breakdown:\n",
    "1) Filter and group by region and registration_status, and count the occurrences\n",
    "2) Plot the stacked bar graph with the desired figure size\n",
    "3) Add labels and title\n",
    "4) Adjust the legend location so it doesn't overlap with the graph\n",
    "5) Adjust layout to prevent clipping of the legend\n",
    "6) Display results"
   ]
  },
  {
   "cell_type": "code",
   "execution_count": null,
   "metadata": {},
   "outputs": [],
   "source": [
    "# Step 1\n",
    "filtered_data = student_avg_attendance[student_avg_attendance['region'].isin(['Northeast', 'West'])]\n",
    "region_registration_counts = filtered_data.groupby(['region', 'registration_status']).size().unstack(fill_value=0)\n",
    "\n",
    "# Step 2\n",
    "ax = region_registration_counts.plot(kind='bar', stacked=True, figsize=(10, 6))  # Set figure size (width=10, height=6)\n",
    "\n",
    "# Step 3\n",
    "plt.title('Registration Status by Region (Northeast and West)', fontsize=14)\n",
    "plt.xlabel('Region', fontsize=12)\n",
    "plt.ylabel('Count of Students', fontsize=12)\n",
    "plt.xticks(rotation=0)  # To keep region names horizontal\n",
    "\n",
    "# Step 4\n",
    "plt.legend(title='Registration Status', title_fontsize='13', fontsize='11', bbox_to_anchor=(1.05, 1), loc='upper left')\n",
    "\n",
    "# Step 5\n",
    "plt.tight_layout()\n",
    "\n",
    "# Step 6\n",
    "plt.show()\n",
    "region_registration_counts"
   ]
  },
  {
   "cell_type": "markdown",
   "metadata": {},
   "source": [
    "### Find Total Number of Students per State and Calculate the State Average Attendance "
   ]
  },
  {
   "cell_type": "markdown",
   "metadata": {},
   "source": [
    "Code Breakdown:\n",
    "1) Group by state and calculate the average student attendance.\n",
    "2) Ensure avg_attendance is numeric by removing any % signs.\n",
    "3) Calculate each student's overall average class attendance.\n",
    "4) Rename the column for clarity.\n",
    "5) Merge the state information from demo_performance_data.\n",
    "6) Calculate the average attendance per state.\n",
    "7) Rename the column for clarity.\n",
    "8) Calculate the total number of students per state.\n",
    "9) Merge the total student count with the state average attendance DataFrame.\n",
    "10) Display the final result."
   ]
  },
  {
   "cell_type": "code",
   "execution_count": null,
   "metadata": {},
   "outputs": [],
   "source": [
    "# Step 1\n",
    "state_avg_attendance = student_avg_attendance.groupby('state')['student_avg_attendance'].mean()\n",
    "\n",
    "# Step 2\n",
    "demo_performance_data[\"avg_attendance\"] = demo_performance_data[\"avg_attendance\"].astype(str).str.rstrip('%').astype(float)\n",
    "\n",
    "# Step 3\n",
    "student_avg_attendance = demo_performance_data.groupby(\"user_id\")[\"avg_attendance\"].mean().reset_index()\n",
    "\n",
    "# Step 4\n",
    "student_avg_attendance.rename(columns={\"avg_attendance\": \"student_avg_attendance\"}, inplace=True)\n",
    "\n",
    "# Step 5\n",
    "student_avg_attendance = student_avg_attendance.merge(demo_performance_data[['user_id', 'state']].drop_duplicates(), on='user_id', how='left')\n",
    "\n",
    "# Step 6\n",
    "state_avg_attendance = student_avg_attendance.groupby(\"state\")[\"student_avg_attendance\"].mean().reset_index()\n",
    "\n",
    "# Step 7\n",
    "state_avg_attendance.rename(columns={\"student_avg_attendance\": \"state_avg_attendance\"}, inplace=True)\n",
    "\n",
    "# Step 8\n",
    "state_student_count = student_avg_attendance.groupby(\"state\")[\"user_id\"].nunique().reset_index()\n",
    "state_student_count.rename(columns={\"user_id\": \"total_students\"}, inplace=True)\n",
    "\n",
    "# Step 9\n",
    "state_avg_attendance = state_avg_attendance.merge(state_student_count, on=\"state\", how=\"left\")\n",
    "\n",
    "# Step 10\n",
    "state_avg_attendance\n"
   ]
  },
  {
   "cell_type": "markdown",
   "metadata": {},
   "source": [
    "### Plot Average Class Attendance of All States"
   ]
  },
  {
   "cell_type": "markdown",
   "metadata": {},
   "source": [
    "Code Breakdown:\n",
    "1) Sort the data by average attendance in ascending order.\n",
    "2) Create a horizontal bar chart with the sorted data and set the figure size for the plot.\n",
    "3) Plot the horizontal bar chart with states on the y-axis and average attendance on the x-axis.\n",
    "4) Add labels for the y-axis (State), x-axis (Average Attendance (%)), and the title (Average Class Attendance by State (Highest to Lowest)).\n",
    "5) Adjust the layout to ensure the plot fits well and display results"
   ]
  },
  {
   "cell_type": "code",
   "execution_count": null,
   "metadata": {},
   "outputs": [],
   "source": [
    "# Step 1\n",
    "state_avg_attendance_sorted = state_avg_attendance.sort_values(by='state_avg_attendance', ascending=True)\n",
    "\n",
    "# Step 2\n",
    "plt.figure(figsize=(15, 10))\n",
    "\n",
    "# Step 3\n",
    "plt.barh(state_avg_attendance_sorted['state'], state_avg_attendance_sorted['state_avg_attendance'], color='skyblue')\n",
    "\n",
    "# Step 4\n",
    "plt.ylabel('State')\n",
    "plt.xlabel('Average Attendance (%)')\n",
    "plt.title('Average Class Attendance by State (Highest to Lowest)')\n",
    "\n",
    "# Step 5\n",
    "plt.tight_layout()\n",
    "plt.show()"
   ]
  },
  {
   "cell_type": "markdown",
   "metadata": {},
   "source": [
    "### Map State Abbreviations to Regions"
   ]
  },
  {
   "cell_type": "markdown",
   "metadata": {},
   "source": [
    "Code Breakdown:\n",
    "1) Create a dictionary mapping state abbreviations to regions\n",
    "2) Map the region to each state abbreviation in the DataFrame\n",
    "3) Sort the data by average attendance in descending order\n",
    "4) Display results"
   ]
  },
  {
   "cell_type": "code",
   "execution_count": null,
   "metadata": {},
   "outputs": [],
   "source": [
    "# Step 1\n",
    "state_to_region = {\n",
    "    'AL': 'South', 'AK': 'West', 'AZ': 'West', 'AR': 'South', 'CA': 'West',\n",
    "    'CO': 'West', 'CT': 'Northeast', 'DE': 'South', 'FL': 'South', 'GA': 'South',\n",
    "    'HI': 'West', 'ID': 'West', 'IL': 'Midwest', 'IN': 'Midwest', 'IA': 'Midwest',\n",
    "    'KS': 'Midwest', 'KY': 'South', 'LA': 'South', 'ME': 'Northeast', 'MD': 'South',\n",
    "    'MA': 'Northeast', 'MI': 'Midwest', 'MN': 'Midwest', 'MS': 'South',\n",
    "    'MO': 'Midwest', 'MT': 'West', 'NE': 'Midwest', 'NV': 'West', 'NH': 'Northeast',\n",
    "    'NJ': 'Northeast', 'NM': 'West', 'NY': 'Northeast', 'NC': 'South',\n",
    "    'ND': 'Midwest', 'OH': 'Midwest', 'OK': 'South', 'OR': 'West', 'PA': 'Northeast',\n",
    "    'RI': 'Northeast', 'SC': 'South', 'SD': 'Midwest', 'TN': 'South',\n",
    "    'TX': 'South', 'UT': 'West', 'VT': 'Northeast', 'VA': 'South', 'WA': 'West',\n",
    "    'WV': 'South', 'WI': 'Midwest', 'WY': 'West'\n",
    "}\n",
    "\n",
    "# Step 2\n",
    "state_avg_attendance['region'] = state_avg_attendance['state'].map(state_to_region)\n",
    "\n",
    "# Step 3\n",
    "region_avg_attendance_sorted = state_avg_attendance.sort_values(by='region', ascending=True)\n",
    "\n",
    "# Step 4\n",
    "region_avg_attendance_sorted"
   ]
  },
  {
   "cell_type": "markdown",
   "metadata": {},
   "source": [
    "### Calculate the Regional Average Class Attendance Based on State Average Attendance for Each Region"
   ]
  },
  {
   "cell_type": "markdown",
   "metadata": {},
   "source": [
    "Code Breakdown:\n",
    "1) Calculate the average attendance per region\n",
    "2) Rename the column to reflect \"region average attendance\"\n",
    "3) Calculate the total number of students per region\n",
    "4) Merge the total students count with the region_avg_attendance DataFrame\n",
    "5) Display results"
   ]
  },
  {
   "cell_type": "code",
   "execution_count": null,
   "metadata": {},
   "outputs": [],
   "source": [
    "# Step 1\n",
    "region_avg_attendance = state_avg_attendance.groupby(\"region\")[\"state_avg_attendance\"].mean().reset_index()\n",
    "\n",
    "# Step 2\n",
    "region_avg_attendance = region_avg_attendance.rename(columns={\"state_avg_attendance\": \"region_avg_attendance\"})\n",
    "\n",
    "# Step 3\n",
    "region_student_count = state_avg_attendance.groupby(\"region\")[\"total_students\"].sum().reset_index()\n",
    "\n",
    "# Step 4\n",
    "region_avg_attendance = region_avg_attendance.merge(region_student_count, on=\"region\", how=\"left\")\n",
    "\n",
    "# Step 5\n",
    "region_avg_attendance"
   ]
  },
  {
   "cell_type": "markdown",
   "metadata": {},
   "source": [
    "Code Breakdown:\n",
    "1) Group the data by state and aggregate all unique zip codes for each state into a comma-separated string.\n",
    "2) Merge the zip codes with the state_avg_attendance data, linking them by the state.\n",
    "3) Filter the data to include only the Northeast and West regions.\n",
    "4) Sort the filtered data by the region in either ascending or descending order as needed.\n",
    "5) Select the columns for the region and zip codes from the sorted data.\n",
    "6) Group the data by region and aggregate the zip codes into a comma-separated list for each region.\n",
    "7) Ensure that the user_id is present in the data. If it’s missing, merge it back using the state column.\n",
    "8) Group the data by region and aggregate the unique user IDs for each region into a comma-separated string.\n",
    "9) Merge the zip codes data with the user IDs data by the region.\n",
    "10) Display the final result containing the region, its zip codes, and associated user IDs."
   ]
  },
  {
   "cell_type": "code",
   "execution_count": null,
   "metadata": {},
   "outputs": [],
   "source": [
    "# Step 1\n",
    "state_zipcodes = demo_performance_data.groupby(\"state\")[\"zipcode\"].unique().apply(lambda x: \", \".join(map(str, x))).reset_index()\n",
    "\n",
    "# Step 2\n",
    "state_avg_attendance = state_avg_attendance.merge(state_zipcodes, on=\"state\", how=\"left\")\n",
    "\n",
    "# Step 3\n",
    "filtered_state_avg_attendance = state_avg_attendance[state_avg_attendance['region'].isin(['Northeast', 'West'])]\n",
    "\n",
    "# Step 4\n",
    "sorted_filtered_state_avg_attendance = filtered_state_avg_attendance.sort_values(by='region', ascending=False)\n",
    "\n",
    "# Step 5\n",
    "high_low_zipcodes = sorted_filtered_state_avg_attendance[['region', 'zipcode']]\n",
    "\n",
    "# Step 6\n",
    "region_zipcodes = sorted_filtered_state_avg_attendance.groupby('region')['zipcode'].apply(lambda x: \", \".join(x)).reset_index()\n",
    "\n",
    "# Step 7\n",
    "if 'user_id' not in sorted_filtered_state_avg_attendance.columns:\n",
    "    sorted_filtered_state_avg_attendance = sorted_filtered_state_avg_attendance.merge(demo_performance_data[['user_id', 'state']], on='state', how='left')\n",
    "\n",
    "# Step 8\n",
    "region_user_ids = sorted_filtered_state_avg_attendance.groupby('region')['user_id'].unique().apply(lambda x: \", \".join(map(str, x))).reset_index()\n",
    "\n",
    "# Step 9\n",
    "region_zipcodes_with_users = region_zipcodes.merge(region_user_ids, on='region', how='left')\n",
    "\n",
    "# Step 10\n",
    "region_zipcodes_with_users"
   ]
  },
  {
   "cell_type": "markdown",
   "metadata": {},
   "source": [
    "#### Gather a List of All Unique Zip Code Groups from Norhteast and West Regions Respectively"
   ]
  },
  {
   "cell_type": "markdown",
   "metadata": {},
   "source": [
    "Code Breakdown:\n",
    "1) Group by region and aggregate all zip codes into a comma-separated string for each region\n",
    "2) Sort zipcodes in zipcodes column\n",
    "3) Convert the DataFrame to a dictionary\n",
    "4) Display results"
   ]
  },
  {
   "cell_type": "code",
   "execution_count": null,
   "metadata": {},
   "outputs": [],
   "source": [
    "# Step 1\n",
    "region_zipcodes = region_zipcodes_with_users.groupby('region')['zipcode'].apply(lambda x: \", \".join(x)).reset_index()\n",
    "\n",
    "# Step 2\n",
    "region_zipcodes['zipcode'] = region_zipcodes['zipcode'].apply(lambda x: ', '.join(sorted(x.split(', '))))\n",
    "\n",
    "# Step 3\n",
    "region_zipcodes_dict = region_zipcodes.set_index('region')['zipcode'].to_dict()\n",
    "user_zipcodes_dict = region_zipcodes_with_users.set_index('region')['user_id'].to_dict()\n",
    "\n",
    "# Step 4\n",
    "region_zipcodes_dict\n",
    "user_zipcodes_dict"
   ]
  },
  {
   "cell_type": "markdown",
   "metadata": {},
   "source": [
    "### Graph The Average Class Attendance Rate By Region"
   ]
  },
  {
   "cell_type": "markdown",
   "metadata": {},
   "source": [
    "Code Breakdown:\n",
    "1) Plot the sorted horizontal bar chart\n",
    "2) Adding labels and title\n",
    "3) Display the plot"
   ]
  },
  {
   "cell_type": "code",
   "execution_count": null,
   "metadata": {},
   "outputs": [],
   "source": [
    "# Step 1\n",
    "plt.figure(figsize=(10, 6))\n",
    "plt.barh(region_avg_attendance['region'], region_avg_attendance['region_avg_attendance'], color='skyblue')\n",
    "\n",
    "# Step 2\n",
    "plt.ylabel('Region')\n",
    "plt.xlabel('Region Average Attendance (%)')\n",
    "plt.title('Average Class Attendance by Region')\n",
    "\n",
    "# Step 3\n",
    "plt.tight_layout()\n",
    "plt.show()"
   ]
  },
  {
   "cell_type": "markdown",
   "metadata": {},
   "source": [
    "## Analysis #3: Platform Engagement Data Analysis"
   ]
  },
  {
   "cell_type": "markdown",
   "metadata": {},
   "source": [
    "### Sorting Based on Age Group Using Demographic Data and Platform Engagement Data"
   ]
  },
  {
   "cell_type": "markdown",
   "metadata": {},
   "source": [
    "Code Breakdown:\n",
    "1) Load the csv files and convert them into respective DataFrames\n",
    "2) Merge the dataframes\n",
    "3) Drop unnecessary columns\n",
    "4) Fill in missing values\n",
    "5) Create age group bins and labels\n",
    "6) Categorize ages into age groups\n",
    "7) Display results"
   ]
  },
  {
   "cell_type": "code",
   "execution_count": null,
   "metadata": {},
   "outputs": [],
   "source": [
    "# Step 1\n",
    "demo_data = pd.read_csv('Demographic_Data.csv')\n",
    "demo_data = pd.DataFrame(demo_data)\n",
    "\n",
    "engagement_data = pd.read_csv('Platform_Engagement_Data.csv')\n",
    "engagement_data = pd.DataFrame(engagement_data)\n",
    "\n",
    "# Step 2\n",
    "demo_engagement_data = pd.merge(demo_data, engagement_data, on='user_id', how='inner')\n",
    "\n",
    "# Step 3\n",
    "demo_engagement_data = demo_engagement_data.drop(columns=['term_number', 'gender', 'race', 'hispanic', 'high_school_grad', 'ged_received', 'first_gen_college?', 'past_college_enrollment', 'zipcode', 'city', 'state', 'veteran_status', 'registration_status', 'Lifetime Credits Completed', 'Lifetime Credits Attempted', 'Lifetime GPA'])\n",
    "\n",
    "# Step 4\n",
    "demo_engagement_data = demo_engagement_data.fillna('')\n",
    "\n",
    "# Step 5\n",
    "age_bins = [18, 24, 34, 50, float('inf')]\n",
    "age_labels = ['18-24', '25-34', '35-50', '50+']\n",
    "\n",
    "# Step 6\n",
    "demo_engagement_data['age_group'] = pd.cut(demo_engagement_data['age'], bins=age_bins, labels=age_labels, right=False)\n",
    "\n",
    "# Step 7\n",
    "demo_engagement_data"
   ]
  },
  {
   "cell_type": "markdown",
   "metadata": {},
   "source": [
    "### Graph The Average of the Average of Messages Sent In a Week & Average of Average CW Connections Per Week For Each Age Group"
   ]
  },
  {
   "cell_type": "markdown",
   "metadata": {},
   "source": [
    "Code Breakdown: \n",
    "1) Translate the data in the column into numeric values\n",
    "2) Calculate the mean for each age group and store in a DataFrame\n",
    "3) Create graph\n",
    "4) Add labels\n",
    "5) Display results"
   ]
  },
  {
   "cell_type": "code",
   "execution_count": null,
   "metadata": {},
   "outputs": [],
   "source": [
    "# Step 1\n",
    "demo_engagement_data['avg_messages_sent_per_week'] = pd.to_numeric(demo_engagement_data['avg_messages_sent_per_week'], errors='coerce')\n",
    "\n",
    "# Step 2\n",
    "avg_messages_by_age_group = demo_engagement_data.groupby('age_group')['avg_messages_sent_per_week'].mean()\n",
    "avg_messages_by_age_group = pd.DataFrame(avg_messages_by_age_group).reset_index()\n",
    "\n",
    "# Step 3\n",
    "plt.figure(figsize=(10, 6))\n",
    "sns.barplot(data=avg_messages_by_age_group, x='age_group', y='avg_messages_sent_per_week')\n",
    "\n",
    "# Step 4\n",
    "plt.title('Age vs. Average Messages Sent per Week')\n",
    "plt.xlabel('Age Group')\n",
    "plt.ylabel('Average Average Messages Sent per Week')\n",
    "\n",
    "# Step 5\n",
    "plt.show()\n",
    "avg_messages_by_age_group"
   ]
  },
  {
   "cell_type": "markdown",
   "metadata": {},
   "source": [
    "Code Breakdown: \n",
    "1) Translate the data in the column into numeric values\n",
    "2) Calculate the mean for each age group and store in a DataFrame\n",
    "3) Create graph\n",
    "4) Add labels\n",
    "5) Display results"
   ]
  },
  {
   "cell_type": "code",
   "execution_count": null,
   "metadata": {},
   "outputs": [],
   "source": [
    "# Step 1\n",
    "demo_engagement_data['avg_cw_connections_per_week'] = pd.to_numeric(demo_engagement_data['avg_cw_connections_per_week'], errors='coerce')\n",
    "\n",
    "# Step 2\n",
    "avg_connections_by_age_group = demo_engagement_data.groupby('age_group')['avg_cw_connections_per_week'].mean()\n",
    "avg_connections_by_age_group = pd.DataFrame(avg_connections_by_age_group).reset_index()\n",
    "\n",
    "# Set 3\n",
    "plt.figure(figsize=(10, 6))\n",
    "sns.barplot(data=avg_connections_by_age_group, x='age_group', y='avg_cw_connections_per_week')\n",
    "\n",
    "# Step 4\n",
    "plt.title('Age vs. Average CW Connections per Week')\n",
    "plt.xlabel('Age Group')\n",
    "plt.ylabel('Average Average CW Connections per Week')\n",
    "\n",
    "# Step 5\n",
    "plt.show()\n",
    "avg_connections_by_age_group"
   ]
  },
  {
   "cell_type": "markdown",
   "metadata": {},
   "source": [
    "### Graph the Spread of the Different Discovery Methods For Each Age Group"
   ]
  },
  {
   "cell_type": "markdown",
   "metadata": {},
   "source": [
    "Code Breakdown:\n",
    "1) Define age groups and labels\n",
    "2) Assign age groups\n",
    "3) Group data by age group & discovery method\n",
    "4) Create bar chart\n",
    "5) Customize\n",
    "6) Optimize Layout\n",
    "7) Get overall counts for each discovery platform"
   ]
  },
  {
   "cell_type": "code",
   "execution_count": null,
   "metadata": {},
   "outputs": [],
   "source": [
    "# Step 1\n",
    "age_bins = [18, 24, 34, 50, float('inf')]  # Bins for 18-24, 25-34, 35-50, 50+\n",
    "age_labels = ['18-24', '25-34', '35-50', '50+']  # Labels for each bin\n",
    "\n",
    "# Step 2\n",
    "demo_engagement_data['age_group'] = pd.cut(demo_engagement_data['age'], bins=age_bins, labels=age_labels, right=False)\n",
    "\n",
    "# Step 3\n",
    "grouped_data = demo_engagement_data.groupby(['age_group', 'hear_about_OnlineEdu']).size().unstack().fillna(0)\n",
    "\n",
    "# Step 4\n",
    "grouped_data.plot(kind='bar', stacked=True, figsize=(12, 7), colormap='Set3')\n",
    "\n",
    "# Step 5\n",
    "plt.title('How Different Age Groups Found OnlineEdu')\n",
    "plt.xlabel('Age Group')\n",
    "plt.ylabel('Number of Users')\n",
    "plt.xticks(rotation=0)  # Keeps the x-axis labels straight\n",
    "plt.legend(title='Source of Discovery', bbox_to_anchor=(1.05, 1), loc='upper left')\n",
    "\n",
    "# Step 6\n",
    "plt.tight_layout()  # Ensures nothing gets cut off\n",
    "plt.show()\n",
    "\n",
    "# Step 7\n",
    "platform_counts = demo_data['hear_about_OnlineEdu'].value_counts()\n",
    "platform_counts = pd.DataFrame(platform_counts).reset_index()\n",
    "platform_counts"
   ]
  }
 ],
 "metadata": {
  "kernelspec": {
   "display_name": "Python 3",
   "language": "python",
   "name": "python3"
  },
  "language_info": {
   "codemirror_mode": {
    "name": "ipython",
    "version": 3
   },
   "file_extension": ".py",
   "mimetype": "text/x-python",
   "name": "python",
   "nbconvert_exporter": "python",
   "pygments_lexer": "ipython3",
   "version": "3.11.4"
  }
 },
 "nbformat": 4,
 "nbformat_minor": 2
}
